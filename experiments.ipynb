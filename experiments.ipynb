{
 "cells": [
  {
   "cell_type": "code",
   "execution_count": 1,
   "id": "5a0df8fa",
   "metadata": {},
   "outputs": [],
   "source": [
    "import os"
   ]
  },
  {
   "cell_type": "code",
   "execution_count": 17,
   "id": "3cb79a9c",
   "metadata": {},
   "outputs": [
    {
     "name": "stdout",
     "output_type": "stream",
     "text": [
      "\u001b[?25l\u001b[2;36mFound existing ZenML repository at path \u001b[0m\u001b[2;32m'/Users/nanu/Desktop/ML-Ops/zenml'\u001b[0m\u001b[2;36m.\u001b[0m\n",
      "\u001b[2;32m⠋\u001b[0m\u001b[2;36m Initializing ZenML repository at /Users/nanu/Desktop/ML-Ops/zenml.\u001b[0m\n",
      "\u001b[2K\u001b[1A\u001b[2K\u001b[32m⠋\u001b[0m Initializing ZenML repository at /Users/nanu/Desktop/ML-Ops/zenml.\n",
      "\n",
      "\u001b[1A\u001b[2K\u001b[1A\u001b[2K"
     ]
    }
   ],
   "source": [
    "!rm -rf .zenml\n",
    "!zenml init"
   ]
  },
  {
   "cell_type": "code",
   "execution_count": 18,
   "id": "334b5db7",
   "metadata": {},
   "outputs": [],
   "source": [
    "import numpy as np\n",
    "import pandas as pd\n",
    "import matplotlib.pyplot as plt\n",
    "from sklearn.datasets import load_digits\n",
    "from sklearn.model_selection import train_test_split\n",
    "from sklearn.linear_model import LogisticRegression\n",
    "from sklearn.base import ClassifierMixin"
   ]
  },
  {
   "cell_type": "code",
   "execution_count": 19,
   "id": "64f885dc",
   "metadata": {},
   "outputs": [
    {
     "name": "stdout",
     "output_type": "stream",
     "text": [
      "Model trained with accuracy: 0.975\n"
     ]
    }
   ],
   "source": [
    "def train_model() -> None:\n",
    "    \"\"\"Train a logistic regression model on the digits dataset.\"\"\"\n",
    "    digits = load_digits()\n",
    "    X, y = digits.data, digits.target\n",
    "    X_train, X_test, y_train, y_test = train_test_split(X, y, test_size=0.2, random_state=42)\n",
    "    model= LogisticRegression(penalty='l2', C=0.7, max_iter=1000)\n",
    "    model.fit(X_train, y_train)\n",
    "    print(f\"Model trained with accuracy: {model.score(X_test, y_test)}\")\n",
    "\n",
    "train_model()"
   ]
  },
  {
   "cell_type": "code",
   "execution_count": 28,
   "id": "3fe23cd8",
   "metadata": {},
   "outputs": [],
   "source": [
    "# Import data -> Train model -> Evaluate\n",
    "\n",
    "from zenml import step, pipeline\n",
    "from typing_extensions import Annotated\n",
    "from typing import Any, Dict, Tuple\n",
    "\n",
    "@step\n",
    "def load_data() -> Tuple[\n",
    "                            Annotated[np.ndarray, \"X_train\"],\n",
    "                            Annotated[np.ndarray, \"X_test\"],\n",
    "                            Annotated[np.ndarray, \"y_train\"],\n",
    "                            Annotated[np.ndarray, \"y_test\"],\n",
    "                            ]:\n",
    "    \"\"\"Loads digits dataset and splits it into train and test sets.\"\"\"\n",
    "    digits = load_digits()\n",
    "    X, y = digits.data, digits.target\n",
    "    X_train, X_test, y_train, y_test = train_test_split(X, y, test_size=0.2, random_state=42)\n",
    "    return X_train, X_test, y_train, y_test\n",
    "\n",
    "@step\n",
    "def logistic_regression_trainer(X_train: np.ndarray, y_train: np.ndarray) -> ClassifierMixin:\n",
    "    \"\"\"Trains a logistic regression model.\"\"\"\n",
    "    model= LogisticRegression(penalty='l2', C=0.3, max_iter=1000)\n",
    "    model.fit(X_train, y_train)\n",
    "    return model\n",
    "\n",
    "@step\n",
    "def evaluator(X_test: np.ndarray, y_test: np.ndarray, model: ClassifierMixin) -> float:\n",
    "    \"\"\"Evaluates the sklearn model.\"\"\"\n",
    "    accuracy = model.score(X_test, y_test)\n",
    "    print(f\"Model trained with accuracy: {accuracy}\")\n",
    "    return accuracy\n"
   ]
  },
  {
   "cell_type": "code",
   "execution_count": 26,
   "id": "18303a4c",
   "metadata": {},
   "outputs": [],
   "source": [
    "@pipeline\n",
    "def ml_pipeline():\n",
    "    \"\"\"Pipeline to load data, train and evaluate a model.\"\"\"\n",
    "    X_train, X_test, y_train, y_test = load_data()\n",
    "    model = logistic_regression_trainer(X_train, y_train)\n",
    "    score = evaluator(X_test, y_test, model)\n"
   ]
  },
  {
   "cell_type": "code",
   "execution_count": null,
   "id": "3609f844",
   "metadata": {},
   "outputs": [
    {
     "name": "stdout",
     "output_type": "stream",
     "text": [
      "\u001b[1;35mInitiating a new run for the pipeline: \u001b[0m\u001b[1;36mml_pipeline\u001b[1;35m.\u001b[0m\n",
      "\u001b[1;35mUsing user: \u001b[0m\u001b[1;36mdefault\u001b[1;35m\u001b[0m\n",
      "\u001b[1;35mUsing stack: \u001b[0m\u001b[1;36mdefault\u001b[1;35m\u001b[0m\n",
      "\u001b[1;35m  artifact_store: \u001b[0m\u001b[1;36mdefault\u001b[1;35m\u001b[0m\n",
      "\u001b[1;35m  orchestrator: \u001b[0m\u001b[1;36mdefault\u001b[1;35m\u001b[0m\n",
      "\u001b[1;35mYou can visualize your pipeline runs in the \u001b[0m\u001b[1;36mZenML Dashboard\u001b[1;35m. In order to try it locally, please run \u001b[0m\u001b[1;36mzenml login --local\u001b[1;35m.\u001b[0m\n",
      "\u001b[1;35mUsing cached version of step \u001b[0m\u001b[1;36mload_data\u001b[1;35m.\u001b[0m\n",
      "\u001b[1;35mUsing cached version of step \u001b[0m\u001b[1;36mlogistic_regression_trainer\u001b[1;35m.\u001b[0m\n",
      "\u001b[1;35mUsing cached version of step \u001b[0m\u001b[1;36mevaluator\u001b[1;35m.\u001b[0m\n",
      "\u001b[1;35mAll steps of the pipeline run were cached.\u001b[0m\n"
     ]
    },
    {
     "data": {
      "text/plain": [
       "PipelineRunResponse(body=PipelineRunResponseBody(created=datetime.datetime(2025, 4, 17, 19, 46, 30, 742524), updated=datetime.datetime(2025, 4, 17, 19, 46, 31, 395339), user=UserResponse(body=UserResponseBody(created=datetime.datetime(2025, 4, 17, 18, 55, 52, 776415), updated=datetime.datetime(2025, 4, 17, 19, 37, 47, 805874), active=True, activation_token=None, full_name='default', email_opted_in=False, is_service_account=False, is_admin=True, default_project_id=None), metadata=None, resources=None, id=UUID('fab319a1-b537-4799-9fc1-4daa645a45ea'), permission_denied=False, name='default'), status=<ExecutionStatus.COMPLETED: 'completed'>, stack=StackResponse(body=StackResponseBody(created=datetime.datetime(2025, 4, 17, 18, 55, 52, 547997), updated=datetime.datetime(2025, 4, 17, 18, 55, 52, 548009), user=None), metadata=None, resources=None, id=UUID('a7ec8096-6e00-4ac4-a398-33e860540213'), permission_denied=False, name='default'), pipeline=PipelineResponse(body=PipelineResponseBody(created=datetime.datetime(2025, 4, 17, 19, 44, 58, 190607), updated=datetime.datetime(2025, 4, 17, 19, 44, 58, 190617), user=UserResponse(body=UserResponseBody(created=datetime.datetime(2025, 4, 17, 18, 55, 52, 776415), updated=datetime.datetime(2025, 4, 17, 19, 37, 47, 805874), active=True, activation_token=None, full_name='default', email_opted_in=False, is_service_account=False, is_admin=True, default_project_id=None), metadata=None, resources=None, id=UUID('fab319a1-b537-4799-9fc1-4daa645a45ea'), permission_denied=False, name='default'), latest_run_id=UUID('efaff518-f602-48c6-9c99-cb074153f7e0'), latest_run_status=<ExecutionStatus.COMPLETED: 'completed'>), metadata=None, resources=None, id=UUID('2a617d22-80ee-494c-ac15-c914347dfa8b'), permission_denied=False, name='ml_pipeline'), build=None, schedule=None, code_reference=None, deployment_id=UUID('5c7df9f6-b682-447f-9a1d-1b93cee86f9b'), trigger_execution=None, model_version_id=None), metadata=PipelineRunResponseMetadata(project=ProjectResponse(body=ProjectResponseBody(created=datetime.datetime(2025, 4, 17, 18, 55, 52, 529196), updated=datetime.datetime(2025, 4, 17, 18, 55, 52, 529209), display_name='default'), metadata=None, resources=None, id=UUID('f227d2f6-ddaa-4a37-a215-513cccd589ce'), permission_denied=False, name='default'), run_metadata={}, steps={'load_data': StepRunResponse(body=StepRunResponseBody(created=datetime.datetime(2025, 4, 17, 19, 46, 30, 756060), updated=datetime.datetime(2025, 4, 17, 19, 46, 30, 756068), user=UserResponse(body=UserResponseBody(created=datetime.datetime(2025, 4, 17, 18, 55, 52, 776415), updated=datetime.datetime(2025, 4, 17, 19, 37, 47, 805874), active=True, activation_token=None, full_name='default', email_opted_in=False, is_service_account=False, is_admin=True, default_project_id=None), metadata=None, resources=None, id=UUID('fab319a1-b537-4799-9fc1-4daa645a45ea'), permission_denied=False, name='default'), status=<ExecutionStatus.CACHED: 'cached'>, start_time=datetime.datetime(2025, 4, 17, 19, 46, 30, 749105), end_time=datetime.datetime(2025, 4, 17, 19, 46, 30, 749105), inputs={}, outputs={'X_train': [ArtifactVersionResponse(body=ArtifactVersionResponseBody(created=datetime.datetime(2025, 4, 17, 19, 32, 38, 722807), updated=datetime.datetime(2025, 4, 17, 19, 32, 38, 722823), user=UserResponse(body=UserResponseBody(created=datetime.datetime(2025, 4, 17, 18, 55, 52, 776415), updated=datetime.datetime(2025, 4, 17, 19, 37, 47, 805874), active=True, activation_token=None, full_name='default', email_opted_in=False, is_service_account=False, is_admin=True, default_project_id=None), metadata=None, resources=None, id=UUID('fab319a1-b537-4799-9fc1-4daa645a45ea'), permission_denied=False, name='default'), artifact=ArtifactResponse(body=ArtifactResponseBody(created=datetime.datetime(2025, 4, 17, 19, 32, 38, 719554), updated=datetime.datetime(2025, 4, 17, 19, 32, 38, 719564), user=UserResponse(body=UserResponseBody(created=datetime.datetime(2025, 4, 17, 18, 55, 52, 776415), updated=datetime.datetime(2025, 4, 17, 19, 37, 47, 805874), active=True, activation_token=None, full_name='default', email_opted_in=False, is_service_account=False, is_admin=True, default_project_id=None), metadata=None, resources=None, id=UUID('fab319a1-b537-4799-9fc1-4daa645a45ea'), permission_denied=False, name='default'), tags=[], latest_version_name='1', latest_version_id=UUID('33f4a83e-22dc-40d4-8de1-e7ab80c38329')), metadata=None, resources=None, id=UUID('650e246d-be16-4925-b170-3ea87b466422'), permission_denied=False, name='X_train'), version='1', uri='/Users/nanu/Library/Application Support/zenml/local_stores/46aa9180-e4d8-4994-b4b4-3276d150bdc7/load_data/X_train/d3c7240e-959f-4c5d-9507-3479a25f061d/420f1883', type=<ArtifactType.DATA: 'DataArtifact'>, materializer=Source(module='zenml.materializers.cloudpickle_materializer', attribute='CloudpickleMaterializer', type=<SourceType.INTERNAL: 'internal'>), data_type=Source(module='numpy', attribute='ndarray', type=<SourceType.DISTRIBUTION_PACKAGE: 'distribution_package'>, package_name='numpy', version='2.2.4'), tags=[], producer_pipeline_run_id=UUID('780bd97d-c914-48eb-a893-a7f78dec2893'), save_type=<ArtifactSaveType.STEP_OUTPUT: 'step_output'>, artifact_store_id=UUID('46aa9180-e4d8-4994-b4b4-3276d150bdc7')), metadata=None, resources=None, id=UUID('33f4a83e-22dc-40d4-8de1-e7ab80c38329'), permission_denied=False)], 'y_train': [ArtifactVersionResponse(body=ArtifactVersionResponseBody(created=datetime.datetime(2025, 4, 17, 19, 32, 38, 736828), updated=datetime.datetime(2025, 4, 17, 19, 32, 38, 736835), user=UserResponse(body=UserResponseBody(created=datetime.datetime(2025, 4, 17, 18, 55, 52, 776415), updated=datetime.datetime(2025, 4, 17, 19, 37, 47, 805874), active=True, activation_token=None, full_name='default', email_opted_in=False, is_service_account=False, is_admin=True, default_project_id=None), metadata=None, resources=None, id=UUID('fab319a1-b537-4799-9fc1-4daa645a45ea'), permission_denied=False, name='default'), artifact=ArtifactResponse(body=ArtifactResponseBody(created=datetime.datetime(2025, 4, 17, 19, 32, 38, 736074), updated=datetime.datetime(2025, 4, 17, 19, 32, 38, 736081), user=UserResponse(body=UserResponseBody(created=datetime.datetime(2025, 4, 17, 18, 55, 52, 776415), updated=datetime.datetime(2025, 4, 17, 19, 37, 47, 805874), active=True, activation_token=None, full_name='default', email_opted_in=False, is_service_account=False, is_admin=True, default_project_id=None), metadata=None, resources=None, id=UUID('fab319a1-b537-4799-9fc1-4daa645a45ea'), permission_denied=False, name='default'), tags=[], latest_version_name='1', latest_version_id=UUID('36d15071-57cd-4e46-965b-fd322b6fca1d')), metadata=None, resources=None, id=UUID('85f18f5b-779a-4450-a342-58fb8c35bc53'), permission_denied=False, name='y_train'), version='1', uri='/Users/nanu/Library/Application Support/zenml/local_stores/46aa9180-e4d8-4994-b4b4-3276d150bdc7/load_data/y_train/d3c7240e-959f-4c5d-9507-3479a25f061d/1d8d1fb8', type=<ArtifactType.DATA: 'DataArtifact'>, materializer=Source(module='zenml.materializers.cloudpickle_materializer', attribute='CloudpickleMaterializer', type=<SourceType.INTERNAL: 'internal'>), data_type=Source(module='numpy', attribute='ndarray', type=<SourceType.DISTRIBUTION_PACKAGE: 'distribution_package'>, package_name='numpy', version='2.2.4'), tags=[], producer_pipeline_run_id=UUID('780bd97d-c914-48eb-a893-a7f78dec2893'), save_type=<ArtifactSaveType.STEP_OUTPUT: 'step_output'>, artifact_store_id=UUID('46aa9180-e4d8-4994-b4b4-3276d150bdc7')), metadata=None, resources=None, id=UUID('36d15071-57cd-4e46-965b-fd322b6fca1d'), permission_denied=False)], 'y_test': [ArtifactVersionResponse(body=ArtifactVersionResponseBody(created=datetime.datetime(2025, 4, 17, 19, 32, 38, 740680), updated=datetime.datetime(2025, 4, 17, 19, 32, 38, 740687), user=UserResponse(body=UserResponseBody(created=datetime.datetime(2025, 4, 17, 18, 55, 52, 776415), updated=datetime.datetime(2025, 4, 17, 19, 37, 47, 805874), active=True, activation_token=None, full_name='default', email_opted_in=False, is_service_account=False, is_admin=True, default_project_id=None), metadata=None, resources=None, id=UUID('fab319a1-b537-4799-9fc1-4daa645a45ea'), permission_denied=False, name='default'), artifact=ArtifactResponse(body=ArtifactResponseBody(created=datetime.datetime(2025, 4, 17, 19, 32, 38, 739938), updated=datetime.datetime(2025, 4, 17, 19, 32, 38, 739945), user=UserResponse(body=UserResponseBody(created=datetime.datetime(2025, 4, 17, 18, 55, 52, 776415), updated=datetime.datetime(2025, 4, 17, 19, 37, 47, 805874), active=True, activation_token=None, full_name='default', email_opted_in=False, is_service_account=False, is_admin=True, default_project_id=None), metadata=None, resources=None, id=UUID('fab319a1-b537-4799-9fc1-4daa645a45ea'), permission_denied=False, name='default'), tags=[], latest_version_name='1', latest_version_id=UUID('a0743c1e-1f8c-492b-977f-ae66684c1cd5')), metadata=None, resources=None, id=UUID('9c96e408-fa5f-4893-8a2e-7187d9a4a4a0'), permission_denied=False, name='y_test'), version='1', uri='/Users/nanu/Library/Application Support/zenml/local_stores/46aa9180-e4d8-4994-b4b4-3276d150bdc7/load_data/y_test/d3c7240e-959f-4c5d-9507-3479a25f061d/960b1748', type=<ArtifactType.DATA: 'DataArtifact'>, materializer=Source(module='zenml.materializers.cloudpickle_materializer', attribute='CloudpickleMaterializer', type=<SourceType.INTERNAL: 'internal'>), data_type=Source(module='numpy', attribute='ndarray', type=<SourceType.DISTRIBUTION_PACKAGE: 'distribution_package'>, package_name='numpy', version='2.2.4'), tags=[], producer_pipeline_run_id=UUID('780bd97d-c914-48eb-a893-a7f78dec2893'), save_type=<ArtifactSaveType.STEP_OUTPUT: 'step_output'>, artifact_store_id=UUID('46aa9180-e4d8-4994-b4b4-3276d150bdc7')), metadata=None, resources=None, id=UUID('a0743c1e-1f8c-492b-977f-ae66684c1cd5'), permission_denied=False)], 'X_test': [ArtifactVersionResponse(body=ArtifactVersionResponseBody(created=datetime.datetime(2025, 4, 17, 19, 32, 38, 732309), updated=datetime.datetime(2025, 4, 17, 19, 32, 38, 732315), user=UserResponse(body=UserResponseBody(created=datetime.datetime(2025, 4, 17, 18, 55, 52, 776415), updated=datetime.datetime(2025, 4, 17, 19, 37, 47, 805874), active=True, activation_token=None, full_name='default', email_opted_in=False, is_service_account=False, is_admin=True, default_project_id=None), metadata=None, resources=None, id=UUID('fab319a1-b537-4799-9fc1-4daa645a45ea'), permission_denied=False, name='default'), artifact=ArtifactResponse(body=ArtifactResponseBody(created=datetime.datetime(2025, 4, 17, 19, 32, 38, 731487), updated=datetime.datetime(2025, 4, 17, 19, 32, 38, 731495), user=UserResponse(body=UserResponseBody(created=datetime.datetime(2025, 4, 17, 18, 55, 52, 776415), updated=datetime.datetime(2025, 4, 17, 19, 37, 47, 805874), active=True, activation_token=None, full_name='default', email_opted_in=False, is_service_account=False, is_admin=True, default_project_id=None), metadata=None, resources=None, id=UUID('fab319a1-b537-4799-9fc1-4daa645a45ea'), permission_denied=False, name='default'), tags=[], latest_version_name='1', latest_version_id=UUID('e0106a3f-cd6a-4501-b2a4-dbef2853e0f7')), metadata=None, resources=None, id=UUID('5a692d85-1355-401e-8364-34aa7a71b4c4'), permission_denied=False, name='X_test'), version='1', uri='/Users/nanu/Library/Application Support/zenml/local_stores/46aa9180-e4d8-4994-b4b4-3276d150bdc7/load_data/X_test/d3c7240e-959f-4c5d-9507-3479a25f061d/f723f0af', type=<ArtifactType.DATA: 'DataArtifact'>, materializer=Source(module='zenml.materializers.cloudpickle_materializer', attribute='CloudpickleMaterializer', type=<SourceType.INTERNAL: 'internal'>), data_type=Source(module='numpy', attribute='ndarray', type=<SourceType.DISTRIBUTION_PACKAGE: 'distribution_package'>, package_name='numpy', version='2.2.4'), tags=[], producer_pipeline_run_id=UUID('780bd97d-c914-48eb-a893-a7f78dec2893'), save_type=<ArtifactSaveType.STEP_OUTPUT: 'step_output'>, artifact_store_id=UUID('46aa9180-e4d8-4994-b4b4-3276d150bdc7')), metadata=None, resources=None, id=UUID('e0106a3f-cd6a-4501-b2a4-dbef2853e0f7'), permission_denied=False)]}, model_version_id=None), metadata=None, resources=None, id=UUID('b6d6ebef-b450-4dcb-911f-aedeff5b5a6b'), permission_denied=False, name='load_data'), 'logistic_regression_trainer': StepRunResponse(body=StepRunResponseBody(created=datetime.datetime(2025, 4, 17, 19, 46, 30, 785194), updated=datetime.datetime(2025, 4, 17, 19, 46, 30, 785204), user=UserResponse(body=UserResponseBody(created=datetime.datetime(2025, 4, 17, 18, 55, 52, 776415), updated=datetime.datetime(2025, 4, 17, 19, 37, 47, 805874), active=True, activation_token=None, full_name='default', email_opted_in=False, is_service_account=False, is_admin=True, default_project_id=None), metadata=None, resources=None, id=UUID('fab319a1-b537-4799-9fc1-4daa645a45ea'), permission_denied=False, name='default'), status=<ExecutionStatus.CACHED: 'cached'>, start_time=datetime.datetime(2025, 4, 17, 19, 46, 30, 773829), end_time=datetime.datetime(2025, 4, 17, 19, 46, 30, 773829), inputs={'X_train': StepRunInputResponse(body=ArtifactVersionResponseBody(created=datetime.datetime(2025, 4, 17, 19, 32, 38, 722807), updated=datetime.datetime(2025, 4, 17, 19, 32, 38, 722823), user=UserResponse(body=UserResponseBody(created=datetime.datetime(2025, 4, 17, 18, 55, 52, 776415), updated=datetime.datetime(2025, 4, 17, 19, 37, 47, 805874), active=True, activation_token=None, full_name='default', email_opted_in=False, is_service_account=False, is_admin=True, default_project_id=None), metadata=None, resources=None, id=UUID('fab319a1-b537-4799-9fc1-4daa645a45ea'), permission_denied=False, name='default'), artifact=ArtifactResponse(body=ArtifactResponseBody(created=datetime.datetime(2025, 4, 17, 19, 32, 38, 719554), updated=datetime.datetime(2025, 4, 17, 19, 32, 38, 719564), user=UserResponse(body=UserResponseBody(created=datetime.datetime(2025, 4, 17, 18, 55, 52, 776415), updated=datetime.datetime(2025, 4, 17, 19, 37, 47, 805874), active=True, activation_token=None, full_name='default', email_opted_in=False, is_service_account=False, is_admin=True, default_project_id=None), metadata=None, resources=None, id=UUID('fab319a1-b537-4799-9fc1-4daa645a45ea'), permission_denied=False, name='default'), tags=[], latest_version_name='1', latest_version_id=UUID('33f4a83e-22dc-40d4-8de1-e7ab80c38329')), metadata=None, resources=None, id=UUID('650e246d-be16-4925-b170-3ea87b466422'), permission_denied=False, name='X_train'), version='1', uri='/Users/nanu/Library/Application Support/zenml/local_stores/46aa9180-e4d8-4994-b4b4-3276d150bdc7/load_data/X_train/d3c7240e-959f-4c5d-9507-3479a25f061d/420f1883', type=<ArtifactType.DATA: 'DataArtifact'>, materializer=Source(module='zenml.materializers.cloudpickle_materializer', attribute='CloudpickleMaterializer', type=<SourceType.INTERNAL: 'internal'>), data_type=Source(module='numpy', attribute='ndarray', type=<SourceType.DISTRIBUTION_PACKAGE: 'distribution_package'>, package_name='numpy', version='2.2.4'), tags=[], producer_pipeline_run_id=UUID('780bd97d-c914-48eb-a893-a7f78dec2893'), save_type=<ArtifactSaveType.STEP_OUTPUT: 'step_output'>, artifact_store_id=UUID('46aa9180-e4d8-4994-b4b4-3276d150bdc7')), metadata=None, resources=None, id=UUID('33f4a83e-22dc-40d4-8de1-e7ab80c38329'), permission_denied=False, input_type=<StepRunInputArtifactType.STEP_OUTPUT: 'step_output'>), 'y_train': StepRunInputResponse(body=ArtifactVersionResponseBody(created=datetime.datetime(2025, 4, 17, 19, 32, 38, 736828), updated=datetime.datetime(2025, 4, 17, 19, 32, 38, 736835), user=UserResponse(body=UserResponseBody(created=datetime.datetime(2025, 4, 17, 18, 55, 52, 776415), updated=datetime.datetime(2025, 4, 17, 19, 37, 47, 805874), active=True, activation_token=None, full_name='default', email_opted_in=False, is_service_account=False, is_admin=True, default_project_id=None), metadata=None, resources=None, id=UUID('fab319a1-b537-4799-9fc1-4daa645a45ea'), permission_denied=False, name='default'), artifact=ArtifactResponse(body=ArtifactResponseBody(created=datetime.datetime(2025, 4, 17, 19, 32, 38, 736074), updated=datetime.datetime(2025, 4, 17, 19, 32, 38, 736081), user=UserResponse(body=UserResponseBody(created=datetime.datetime(2025, 4, 17, 18, 55, 52, 776415), updated=datetime.datetime(2025, 4, 17, 19, 37, 47, 805874), active=True, activation_token=None, full_name='default', email_opted_in=False, is_service_account=False, is_admin=True, default_project_id=None), metadata=None, resources=None, id=UUID('fab319a1-b537-4799-9fc1-4daa645a45ea'), permission_denied=False, name='default'), tags=[], latest_version_name='1', latest_version_id=UUID('36d15071-57cd-4e46-965b-fd322b6fca1d')), metadata=None, resources=None, id=UUID('85f18f5b-779a-4450-a342-58fb8c35bc53'), permission_denied=False, name='y_train'), version='1', uri='/Users/nanu/Library/Application Support/zenml/local_stores/46aa9180-e4d8-4994-b4b4-3276d150bdc7/load_data/y_train/d3c7240e-959f-4c5d-9507-3479a25f061d/1d8d1fb8', type=<ArtifactType.DATA: 'DataArtifact'>, materializer=Source(module='zenml.materializers.cloudpickle_materializer', attribute='CloudpickleMaterializer', type=<SourceType.INTERNAL: 'internal'>), data_type=Source(module='numpy', attribute='ndarray', type=<SourceType.DISTRIBUTION_PACKAGE: 'distribution_package'>, package_name='numpy', version='2.2.4'), tags=[], producer_pipeline_run_id=UUID('780bd97d-c914-48eb-a893-a7f78dec2893'), save_type=<ArtifactSaveType.STEP_OUTPUT: 'step_output'>, artifact_store_id=UUID('46aa9180-e4d8-4994-b4b4-3276d150bdc7')), metadata=None, resources=None, id=UUID('36d15071-57cd-4e46-965b-fd322b6fca1d'), permission_denied=False, input_type=<StepRunInputArtifactType.STEP_OUTPUT: 'step_output'>)}, outputs={'output': [ArtifactVersionResponse(body=ArtifactVersionResponseBody(created=datetime.datetime(2025, 4, 17, 19, 45, 21, 919229), updated=datetime.datetime(2025, 4, 17, 19, 45, 21, 919240), user=UserResponse(body=UserResponseBody(created=datetime.datetime(2025, 4, 17, 18, 55, 52, 776415), updated=datetime.datetime(2025, 4, 17, 19, 37, 47, 805874), active=True, activation_token=None, full_name='default', email_opted_in=False, is_service_account=False, is_admin=True, default_project_id=None), metadata=None, resources=None, id=UUID('fab319a1-b537-4799-9fc1-4daa645a45ea'), permission_denied=False, name='default'), artifact=ArtifactResponse(body=ArtifactResponseBody(created=datetime.datetime(2025, 4, 17, 19, 32, 38, 885427), updated=datetime.datetime(2025, 4, 17, 19, 32, 38, 885440), user=UserResponse(body=UserResponseBody(created=datetime.datetime(2025, 4, 17, 18, 55, 52, 776415), updated=datetime.datetime(2025, 4, 17, 19, 37, 47, 805874), active=True, activation_token=None, full_name='default', email_opted_in=False, is_service_account=False, is_admin=True, default_project_id=None), metadata=None, resources=None, id=UUID('fab319a1-b537-4799-9fc1-4daa645a45ea'), permission_denied=False, name='default'), tags=[], latest_version_name='4', latest_version_id=UUID('d905fce1-4042-497e-83b4-576ba77dd72c')), metadata=None, resources=None, id=UUID('fc9caea4-84a3-40cc-9e11-e5ab20edab73'), permission_denied=False, name='ml_pipeline::logistic_regression_trainer::output'), version='4', uri='/Users/nanu/Library/Application Support/zenml/local_stores/46aa9180-e4d8-4994-b4b4-3276d150bdc7/logistic_regression_trainer/output/9d7a181f-1157-412c-84f6-fb8c2998cbeb/b0978382', type=<ArtifactType.DATA: 'DataArtifact'>, materializer=Source(module='zenml.materializers.cloudpickle_materializer', attribute='CloudpickleMaterializer', type=<SourceType.INTERNAL: 'internal'>), data_type=Source(module='sklearn.linear_model._logistic', attribute='LogisticRegression', type=<SourceType.DISTRIBUTION_PACKAGE: 'distribution_package'>, package_name='scikit-learn', version='1.6.1'), tags=[], producer_pipeline_run_id=UUID('af424c89-b7f7-4d71-a88b-a23d3c398067'), save_type=<ArtifactSaveType.STEP_OUTPUT: 'step_output'>, artifact_store_id=UUID('46aa9180-e4d8-4994-b4b4-3276d150bdc7')), metadata=None, resources=None, id=UUID('d905fce1-4042-497e-83b4-576ba77dd72c'), permission_denied=False)]}, model_version_id=None), metadata=None, resources=None, id=UUID('49e37b6f-8a32-4c6c-941b-94e237ca6520'), permission_denied=False, name='logistic_regression_trainer'), 'evaluator': StepRunResponse(body=StepRunResponseBody(created=datetime.datetime(2025, 4, 17, 19, 46, 30, 820309), updated=datetime.datetime(2025, 4, 17, 19, 46, 30, 820319), user=UserResponse(body=UserResponseBody(created=datetime.datetime(2025, 4, 17, 18, 55, 52, 776415), updated=datetime.datetime(2025, 4, 17, 19, 37, 47, 805874), active=True, activation_token=None, full_name='default', email_opted_in=False, is_service_account=False, is_admin=True, default_project_id=None), metadata=None, resources=None, id=UUID('fab319a1-b537-4799-9fc1-4daa645a45ea'), permission_denied=False, name='default'), status=<ExecutionStatus.CACHED: 'cached'>, start_time=datetime.datetime(2025, 4, 17, 19, 46, 30, 804677), end_time=datetime.datetime(2025, 4, 17, 19, 46, 30, 804677), inputs={'X_test': StepRunInputResponse(body=ArtifactVersionResponseBody(created=datetime.datetime(2025, 4, 17, 19, 32, 38, 732309), updated=datetime.datetime(2025, 4, 17, 19, 32, 38, 732315), user=UserResponse(body=UserResponseBody(created=datetime.datetime(2025, 4, 17, 18, 55, 52, 776415), updated=datetime.datetime(2025, 4, 17, 19, 37, 47, 805874), active=True, activation_token=None, full_name='default', email_opted_in=False, is_service_account=False, is_admin=True, default_project_id=None), metadata=None, resources=None, id=UUID('fab319a1-b537-4799-9fc1-4daa645a45ea'), permission_denied=False, name='default'), artifact=ArtifactResponse(body=ArtifactResponseBody(created=datetime.datetime(2025, 4, 17, 19, 32, 38, 731487), updated=datetime.datetime(2025, 4, 17, 19, 32, 38, 731495), user=UserResponse(body=UserResponseBody(created=datetime.datetime(2025, 4, 17, 18, 55, 52, 776415), updated=datetime.datetime(2025, 4, 17, 19, 37, 47, 805874), active=True, activation_token=None, full_name='default', email_opted_in=False, is_service_account=False, is_admin=True, default_project_id=None), metadata=None, resources=None, id=UUID('fab319a1-b537-4799-9fc1-4daa645a45ea'), permission_denied=False, name='default'), tags=[], latest_version_name='1', latest_version_id=UUID('e0106a3f-cd6a-4501-b2a4-dbef2853e0f7')), metadata=None, resources=None, id=UUID('5a692d85-1355-401e-8364-34aa7a71b4c4'), permission_denied=False, name='X_test'), version='1', uri='/Users/nanu/Library/Application Support/zenml/local_stores/46aa9180-e4d8-4994-b4b4-3276d150bdc7/load_data/X_test/d3c7240e-959f-4c5d-9507-3479a25f061d/f723f0af', type=<ArtifactType.DATA: 'DataArtifact'>, materializer=Source(module='zenml.materializers.cloudpickle_materializer', attribute='CloudpickleMaterializer', type=<SourceType.INTERNAL: 'internal'>), data_type=Source(module='numpy', attribute='ndarray', type=<SourceType.DISTRIBUTION_PACKAGE: 'distribution_package'>, package_name='numpy', version='2.2.4'), tags=[], producer_pipeline_run_id=UUID('780bd97d-c914-48eb-a893-a7f78dec2893'), save_type=<ArtifactSaveType.STEP_OUTPUT: 'step_output'>, artifact_store_id=UUID('46aa9180-e4d8-4994-b4b4-3276d150bdc7')), metadata=None, resources=None, id=UUID('e0106a3f-cd6a-4501-b2a4-dbef2853e0f7'), permission_denied=False, input_type=<StepRunInputArtifactType.STEP_OUTPUT: 'step_output'>), 'y_test': StepRunInputResponse(body=ArtifactVersionResponseBody(created=datetime.datetime(2025, 4, 17, 19, 32, 38, 740680), updated=datetime.datetime(2025, 4, 17, 19, 32, 38, 740687), user=UserResponse(body=UserResponseBody(created=datetime.datetime(2025, 4, 17, 18, 55, 52, 776415), updated=datetime.datetime(2025, 4, 17, 19, 37, 47, 805874), active=True, activation_token=None, full_name='default', email_opted_in=False, is_service_account=False, is_admin=True, default_project_id=None), metadata=None, resources=None, id=UUID('fab319a1-b537-4799-9fc1-4daa645a45ea'), permission_denied=False, name='default'), artifact=ArtifactResponse(body=ArtifactResponseBody(created=datetime.datetime(2025, 4, 17, 19, 32, 38, 739938), updated=datetime.datetime(2025, 4, 17, 19, 32, 38, 739945), user=UserResponse(body=UserResponseBody(created=datetime.datetime(2025, 4, 17, 18, 55, 52, 776415), updated=datetime.datetime(2025, 4, 17, 19, 37, 47, 805874), active=True, activation_token=None, full_name='default', email_opted_in=False, is_service_account=False, is_admin=True, default_project_id=None), metadata=None, resources=None, id=UUID('fab319a1-b537-4799-9fc1-4daa645a45ea'), permission_denied=False, name='default'), tags=[], latest_version_name='1', latest_version_id=UUID('a0743c1e-1f8c-492b-977f-ae66684c1cd5')), metadata=None, resources=None, id=UUID('9c96e408-fa5f-4893-8a2e-7187d9a4a4a0'), permission_denied=False, name='y_test'), version='1', uri='/Users/nanu/Library/Application Support/zenml/local_stores/46aa9180-e4d8-4994-b4b4-3276d150bdc7/load_data/y_test/d3c7240e-959f-4c5d-9507-3479a25f061d/960b1748', type=<ArtifactType.DATA: 'DataArtifact'>, materializer=Source(module='zenml.materializers.cloudpickle_materializer', attribute='CloudpickleMaterializer', type=<SourceType.INTERNAL: 'internal'>), data_type=Source(module='numpy', attribute='ndarray', type=<SourceType.DISTRIBUTION_PACKAGE: 'distribution_package'>, package_name='numpy', version='2.2.4'), tags=[], producer_pipeline_run_id=UUID('780bd97d-c914-48eb-a893-a7f78dec2893'), save_type=<ArtifactSaveType.STEP_OUTPUT: 'step_output'>, artifact_store_id=UUID('46aa9180-e4d8-4994-b4b4-3276d150bdc7')), metadata=None, resources=None, id=UUID('a0743c1e-1f8c-492b-977f-ae66684c1cd5'), permission_denied=False, input_type=<StepRunInputArtifactType.STEP_OUTPUT: 'step_output'>), 'model': StepRunInputResponse(body=ArtifactVersionResponseBody(created=datetime.datetime(2025, 4, 17, 19, 45, 21, 919229), updated=datetime.datetime(2025, 4, 17, 19, 45, 21, 919240), user=UserResponse(body=UserResponseBody(created=datetime.datetime(2025, 4, 17, 18, 55, 52, 776415), updated=datetime.datetime(2025, 4, 17, 19, 37, 47, 805874), active=True, activation_token=None, full_name='default', email_opted_in=False, is_service_account=False, is_admin=True, default_project_id=None), metadata=None, resources=None, id=UUID('fab319a1-b537-4799-9fc1-4daa645a45ea'), permission_denied=False, name='default'), artifact=ArtifactResponse(body=ArtifactResponseBody(created=datetime.datetime(2025, 4, 17, 19, 32, 38, 885427), updated=datetime.datetime(2025, 4, 17, 19, 32, 38, 885440), user=UserResponse(body=UserResponseBody(created=datetime.datetime(2025, 4, 17, 18, 55, 52, 776415), updated=datetime.datetime(2025, 4, 17, 19, 37, 47, 805874), active=True, activation_token=None, full_name='default', email_opted_in=False, is_service_account=False, is_admin=True, default_project_id=None), metadata=None, resources=None, id=UUID('fab319a1-b537-4799-9fc1-4daa645a45ea'), permission_denied=False, name='default'), tags=[], latest_version_name='4', latest_version_id=UUID('d905fce1-4042-497e-83b4-576ba77dd72c')), metadata=None, resources=None, id=UUID('fc9caea4-84a3-40cc-9e11-e5ab20edab73'), permission_denied=False, name='ml_pipeline::logistic_regression_trainer::output'), version='4', uri='/Users/nanu/Library/Application Support/zenml/local_stores/46aa9180-e4d8-4994-b4b4-3276d150bdc7/logistic_regression_trainer/output/9d7a181f-1157-412c-84f6-fb8c2998cbeb/b0978382', type=<ArtifactType.DATA: 'DataArtifact'>, materializer=Source(module='zenml.materializers.cloudpickle_materializer', attribute='CloudpickleMaterializer', type=<SourceType.INTERNAL: 'internal'>), data_type=Source(module='sklearn.linear_model._logistic', attribute='LogisticRegression', type=<SourceType.DISTRIBUTION_PACKAGE: 'distribution_package'>, package_name='scikit-learn', version='1.6.1'), tags=[], producer_pipeline_run_id=UUID('af424c89-b7f7-4d71-a88b-a23d3c398067'), save_type=<ArtifactSaveType.STEP_OUTPUT: 'step_output'>, artifact_store_id=UUID('46aa9180-e4d8-4994-b4b4-3276d150bdc7')), metadata=None, resources=None, id=UUID('d905fce1-4042-497e-83b4-576ba77dd72c'), permission_denied=False, input_type=<StepRunInputArtifactType.STEP_OUTPUT: 'step_output'>)}, outputs={'output': [ArtifactVersionResponse(body=ArtifactVersionResponseBody(created=datetime.datetime(2025, 4, 17, 19, 45, 21, 972620), updated=datetime.datetime(2025, 4, 17, 19, 45, 21, 972628), user=UserResponse(body=UserResponseBody(created=datetime.datetime(2025, 4, 17, 18, 55, 52, 776415), updated=datetime.datetime(2025, 4, 17, 19, 37, 47, 805874), active=True, activation_token=None, full_name='default', email_opted_in=False, is_service_account=False, is_admin=True, default_project_id=None), metadata=None, resources=None, id=UUID('fab319a1-b537-4799-9fc1-4daa645a45ea'), permission_denied=False, name='default'), artifact=ArtifactResponse(body=ArtifactResponseBody(created=datetime.datetime(2025, 4, 17, 19, 32, 38, 936652), updated=datetime.datetime(2025, 4, 17, 19, 32, 38, 936659), user=UserResponse(body=UserResponseBody(created=datetime.datetime(2025, 4, 17, 18, 55, 52, 776415), updated=datetime.datetime(2025, 4, 17, 19, 37, 47, 805874), active=True, activation_token=None, full_name='default', email_opted_in=False, is_service_account=False, is_admin=True, default_project_id=None), metadata=None, resources=None, id=UUID('fab319a1-b537-4799-9fc1-4daa645a45ea'), permission_denied=False, name='default'), tags=[], latest_version_name='4', latest_version_id=UUID('aca64336-2e30-4ded-89ad-a0e78423030f')), metadata=None, resources=None, id=UUID('0985f1b8-6611-4e86-99aa-8dd14aac7dd8'), permission_denied=False, name='ml_pipeline::evaluator::output'), version='4', uri='/Users/nanu/Library/Application Support/zenml/local_stores/46aa9180-e4d8-4994-b4b4-3276d150bdc7/evaluator/output/94f91345-0593-4fb6-adc1-9f9913ce3c61/7d9250e5', type=<ArtifactType.DATA: 'DataArtifact'>, materializer=Source(module='zenml.materializers.built_in_materializer', attribute='BuiltInMaterializer', type=<SourceType.INTERNAL: 'internal'>), data_type=Source(module='builtins', attribute='float', type=<SourceType.BUILTIN: 'builtin'>), tags=[], producer_pipeline_run_id=UUID('af424c89-b7f7-4d71-a88b-a23d3c398067'), save_type=<ArtifactSaveType.STEP_OUTPUT: 'step_output'>, artifact_store_id=UUID('46aa9180-e4d8-4994-b4b4-3276d150bdc7')), metadata=None, resources=None, id=UUID('aca64336-2e30-4ded-89ad-a0e78423030f'), permission_denied=False)]}, model_version_id=None), metadata=None, resources=None, id=UUID('5edd4f5e-c64f-4be3-9f3a-efebd4ed6663'), permission_denied=False, name='evaluator')}, config=PipelineConfiguration(enable_cache=None, enable_artifact_metadata=None, enable_artifact_visualization=None, enable_step_logs=None, enable_pipeline_logs=None, settings={}, tags=None, extra={}, failure_hook_source=None, success_hook_source=None, model=None, parameters=None, retry=None, substitutions={'date': '2025_04_17', 'time': '19_46_30_741683'}, name='ml_pipeline'), start_time=datetime.datetime(2025, 4, 17, 19, 46, 30, 741683), end_time=datetime.datetime(2025, 4, 17, 19, 46, 30, 827084), client_environment={'environment': 'notebook', 'os': 'mac', 'mac_version': '15.3.2', 'python_version': '3.11.10'}, orchestrator_environment={}, orchestrator_run_id=None, code_path=None, template_id=None, is_templatable=False, step_substitutions={'load_data': {'date': '2025_04_17', 'time': '19_46_30_741683'}, 'logistic_regression_trainer': {'date': '2025_04_17', 'time': '19_46_30_741683'}, 'evaluator': {'date': '2025_04_17', 'time': '19_46_30_741683'}}), resources=PipelineRunResponseResources(model_version=None, tags=[], logs=LogsResponse(body=LogsResponseBody(created=datetime.datetime(2025, 4, 17, 19, 46, 30, 743167), updated=datetime.datetime(2025, 4, 17, 19, 46, 30, 743174), uri='/Users/nanu/Library/Application Support/zenml/local_stores/46aa9180-e4d8-4994-b4b4-3276d150bdc7/pipeline_runs/logs/1cef3020-bac5-42a8-bea3-82a65b871e9e.log'), metadata=None, resources=None, id=UUID('0edf37bb-59b0-4688-ba46-53b376446616'), permission_denied=False)), id=UUID('efaff518-f602-48c6-9c99-cb074153f7e0'), permission_denied=False, name='ml_pipeline-2025_04_17-19_46_30_741683')"
      ]
     },
     "execution_count": 30,
     "metadata": {},
     "output_type": "execute_result"
    }
   ],
   "source": [
    "ml_pipeline()"
   ]
  },
  {
   "cell_type": "code",
   "execution_count": null,
   "id": "65df1ce6",
   "metadata": {},
   "outputs": [],
   "source": []
  },
  {
   "cell_type": "code",
   "execution_count": 34,
   "id": "1d2d0808",
   "metadata": {},
   "outputs": [
    {
     "name": "stdout",
     "output_type": "stream",
     "text": [
      "[9, 17, 14, 13, 12, 10, 8, 13, 12, 11, 9, 5, 9, 8, 6, 4, 7, 5, 3, 4, 1]\n",
      "2\n"
     ]
    }
   ],
   "source": [
    "def min_trips(N,W):\n",
    "    dp = [float('inf')] * (N + 1)\n",
    "    dp[0] = 0\n",
    "    for i in range(1, N + 1):\n",
    "        for capacity in W:\n",
    "            if i >= capacity:\n",
    "                dp[i] = min(dp[i], dp[i - capacity] + 1)\n",
    "    return dp[N] if dp[N] != float('inf') else -1\n",
    "\n",
    "\n",
    "N = 21\n",
    "M = 6\n",
    "W = [9,8,5,4,3,1]\n",
    "\n",
    "capacities = []\n",
    "\n",
    "for i in range(M):\n",
    "    capacities.append(W[i])\n",
    "    for j in range(i+1, M):\n",
    "        capacities.append(W[i] + W[j])\n",
    "\n",
    "print(capacities)\n",
    "print(min_trips(N, capacities))"
   ]
  }
 ],
 "metadata": {
  "kernelspec": {
   "display_name": ".venv",
   "language": "python",
   "name": "python3"
  },
  "language_info": {
   "codemirror_mode": {
    "name": "ipython",
    "version": 3
   },
   "file_extension": ".py",
   "mimetype": "text/x-python",
   "name": "python",
   "nbconvert_exporter": "python",
   "pygments_lexer": "ipython3",
   "version": "3.11.10"
  }
 },
 "nbformat": 4,
 "nbformat_minor": 5
}
